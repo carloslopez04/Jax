{
  "cells": [
    {
      "cell_type": "markdown",
      "metadata": {
        "id": "kcL0Ecjp1dPB"
      },
      "source": [
        "## **Proyecto de investigación Jax**\n",
        "#### Hecho por : Carlos López Muñoz\n",
        "#### Fecha : 28 / 01 / 2025"
      ]
    },
    {
      "cell_type": "markdown",
      "metadata": {
        "id": "GwIG9NST7tI4"
      },
      "source": [
        "![image.png](data:image/png;base64,iVBORw0KGgoAAAANSUhEUgAAALQAAABpCAYAAACTbQnDAAAgAElEQVR4Ae19CVRbx7l/mrbp/po27etr+/Lapv2n2Zs2aZI2SdMmaZomqV+dNKsT707ifd9tbMAYG9tgDNjsqwCxCK1IaEFoR0JC7IvB7CAQoA2JfbnvjJxLQHB1r6TPbc/fcM6c0dyZ+zF35ne/O/PNt9xxx8rfLR8BSVXvsQThcNc10XAnRKrV91l7C23dvYW2TojUpuuxVpbUb4EaiE61OQ6iXziNNn2PtVLS8CpU/1boBDACXV1d34kXDjWvvTaGQaQDmSNzXQV26+DpGQwimS9MzlQk1dtkFyuMHR0dXw3gUd23dlw3PdCXMdIH0TdEo//y+KTinNGhvGZQYRh2Z6D9W7k/wBEQVPSlbUwYBQEzeiGq5AMWc/A0CJgRYNqK+yypD3OwjCe4mK6wJiLAx72jWzbIhwIzotNS3GNJ/iULy3q+eEbPrjkYaP9W7g9gBIz1vb8KZ1rMEJwZ0YhkWcd7U0acUIDpuzo6VnpC60KAQYl/QNlVV3HjXn8fubPS9GZ/3Bhc/9IdI7yP5RN4/yTBmua2trZv+9u/lfsCHAGmZkAIBWZEp6l0YBgKzIPBM1gzt3sYBwvKUx5iY+UZ1Xn+PHYZVvalHv6wFqp/5pBprIHZvqh/qY9xMC29NsGf/q3cE+AIKKpNHx6ijYxBAZopHnIMRI5PQgGmO9vqYLwpmV4IaPSb8X6prUbU8JKvj9+h6ztljpichepfF2PYRnuxZM6zf9xt8oEadeMjvvZvpX0AI2AwGL6cXTaohwLzpykurJ1nBePO5jNTWF1ByyLutxA4qvhKOYZhX6A6BD0NPd/tzbdfhwKz+fzkrDGt0bqwTwt/q1OquFT7ttIOYARKK01nPk1xzUEBWi0zW81hU2AbwU6O2ZL+NM+9bl4IFPw37Y+CKSOvYSfVoehUDNAGQ+A2qu3FJkvqozfX9XifFuZ5b4hc1ZK6d6n2b6VdACNQ197+g1i+pQ0KzEdzRma66XYbFPcbiJyY1lypsS8EyHK/S8N0dTUDA98gG4rWmr7fmFKcZqj+mWLHx2Vn9M7l+rTwmjxar0NfQrL+rdQHOAJcbX/u+ng4MV2tYsCCNnBQgGkT9FqSHyTmfjho0h7nYPr82hiy4eiSmsVQfUN0rnMWb1Tx/njmmU/zZnXMulNk/VupD2AE5HV9vw9l2IahuPM1jmWsP8nlggKMKcnlEuxTj3mCg6jM2yXvvVF54xdEQ9JR2bu+P3psDKp/Pdl2B/MD6RRRfzyvC4+rb7S2tn6fqH8r1wMcgQJVfykUmNcnjGHNokGwjSDi8k2cTsKNoCdY3OUHWFh5upG93LA0NDTc1c0ZroQC8+CZaay2oNV9iLJsXz6TlS+sS3mYjZXnVKUv17+VawGOgLza9Mm+TOcEFKD5ZUN288XJaSjA9OTbbPmvi2YXAoLK74LV4hGjoGGV5/B0lPedN5+bmoPqXxd7yJr5e+KNKlFf2RvLhho015/y7N9KOYAR6Onp+Vpa6WA1FJi3pTixDpbFAgUWc/jUXHV2s0/cbyGA5DF6DYZhX8SHqLOx84d9dHs7VP8GLkzMaONrbAv/py+/VclGEd63lRxgBIR6U+SWJLiNoE4xYDGfARSDcQcs6b/mEIrpyMCT9Rx/xshpOIIPVZfCXIBO8qAA3cbvsyJ9ErJ+ENXnvCIcryxp2ID3byUPYAQMbab/ucyzdEFx59N0+3QPzWGHAgvSVlNGVDmIwED1ujhI09zR0XF3V4PpOVPSCNjXw5QwOio+VjGvT0K1P57tyi7qjK2trV8JYCpXbkUjwC43Fa2Ph1ENRS9Fg3wADCzopWjl9/q2EVxm84XAk/ooG9PlVad0CYekUC/bTX2SriFPcPpTdmsLMmrPr6AygBEob+hbVVzRN5QrNw9AJJ7+hrNK1Taq5bcMQKQKYYtFcklHWUxHBiRjUZ21Uz7g6OYPDUCkDo1plL9PsUSfhKwfRPVlkRVVAUzn7X0rUjbPVZoVUEuNjQljWCifN3xZyLXcue0j7I6tH4Kkq6xiK5WDFCKQ4NfTn+Rh0rO6YaSfDMGh0VF+TV7LsDqlCuQLkvEUb87ArA+5vVEZwNOXGXv370p3TkMBOlXabPvP0MOzj0eGTr+bcNkGBeifHd89XRhZRnrUjQOXKFenVlnTfs3BuJvlE6bUEUegoO7gDFozf8vDCt4UjwkOqQJfQ0dW6FeOwv0EdHNz87eSRcP1UGDeneHCdhTkWO44uh1DKUrItX5z9yYQDo1ejGB6rhs8RGAlu56/SjRdvFcxL1Zr5LZbA5FymCPHp9RRVfMvmfKawZL6qP9SjvzXhKNGQf37fk7nym0CfW/CpkQ4MV2SrMJy14ldbjAjQN8dvB/bn5MxDMWl0cuRSyv1+9Nenl5tSXmQPS9Wy/mjYK473385eaugd9EyCIkF5ZcN8y8M2QvmWa9JqRSsoNLPEdA39/3yAtvaB8WdQxjDE39NvOLAuTOeH2Hljdx3bPcUFKjXJcXa81YLfd6A8fepRhnvikc9QVSZ3WRHesu+Lj1MyU6nYJd63JOeJLTcSvsDf/6l8awnKnO2yAbqFM2P+TmdK7exyvuL1wFZcKOXIloinV9q4GBG+Z3Hd2Kh7EIwLo02mqkMkU8iMnTYoYg1LHsP0lfuYPf7pGuClimNrHYCemxMlWL06TTTLUqk1yStoNLPEVDUmv5+LNfhhOLO8eKOkYcuBU8sBPLC36uSYydejAxxQnHpp8ODRplHyyhvwOQxFQ7a88UzRNxRGqx39ceNU9a268q32umvCgn1Sbhb5Q7mmtJJov/neR0/7PFzOm/v25AuQ67MXA4F5s0JLuwklz28EMDL/Y4q4Vq+uH0t2AYxhsmhdMyMFIUkoeWk6+5WQQ81HyHhU3PGzCZSDqxONpC2QcD2PI6/vdHpx9NLDD1B21Nds1CATpXX2u4OOTC3HIgXXrs/4tTsutQ4KxSX/uHB7TOMuDJCez2cC6rTqqxpj5FLHpgfSqd6MuykR/Xt3H5Kkoy814UToiANucVK7GKFKT+m9Pa9BXk/uloyfB0KzAeyHLMbc9OtC4Hr7XdECdt2976P56BAfSg706uqJuM9yTRnG3XZdQOr3YL0mYk2iP1XxsdlYeRmVfjLJIvWewU/UmmtFDb97fZFZIBPztf1Z2wA9H6UJCu3fPH4jnkxnTcwo7qvn9yNHSmggW0Qv7pzA5abW0r4aVenGa3JD5CbaeEARMuTrkIL4Qaxpbib8H/hNBbm6NRPGVe5/FfkARamTqtiBTilt+/tmuq+X4cX2cC8H4Wx+sdfjI9ykoHYs35vEW3kodMHJqC49DtXoxz5H4iWmDuVHNO48v8u9ln/oyKt3oH0mj25dF+Gw8FeK6W80cOBLTqhsea8LFjil4PMLOz2RSrFJ2eoB0RQS43118awC0Ix6UbQE8x4OaK4yAIF6C9s+whLKBQs2vQhUVxZVMWiazjAyHIk4mvn9Q8tAnToNFbPbPOJO+P/B3lx0qQaF/WFquEuxam9/ZrJa3rXHcyG836UUNoyct/5E1M4QH3NX0qImvjr5XAHFKgfCzkyzgwtm9+AKRIq7ZnPFBOK1XCwEeXio7pRU/zoKA7qLsawX4clOP2iD6VOzuay+UMYqq4Vbj+kUnhiZASaLjVXQnFn5P3oMIvhN3fGwR9ZwrPctWMdmBjvIqPI7dQFHWcLT6j94qY4AFHewu+yIj1n84WpGUNqvd/H2ThNVWqV+5jcV+c3FKb49mpSWt0X/knKKJj3ozRZjfWbQXspbwRxAHvm9549hn2amQgmxvvegU9nGUkyqzrDaEVW1DiQ/M0L/1c83UOz2zp4A8OBKBzh/z/7RcGUJFxr99U92e2FVpKnrWvt/rm0qm84RWK2QKRcxYBjCz1jib6GJ1ipli8IONbd2WnWXTkpFohUqFaMF+9TUj5BxMFGlDcK2kdKQ/Rg9BRx+qEaqe8OJEmm+fap5ulM+ZDej+JlmuEzAvJTQaqAviQulh0rpGmh1tJf3rEOy8qXLNqAEYGV9PqDLEydarSVntUGvHxB/ysQF7+3D2K9PGl5fd+zIYU2C9Ta+QLXNPq72POj72UmjD0bF+GiClqids9fvWDl11a8wNJpVj8eehRMz+ON6IiRwi2SeefipMAlsD0si6qw57wgmJZGVjhyXhQsEQv6SjdQJ+xepvr//yrkQjZPOSiFAjPyfhQuEAzh4IyS8C1fPL7T73U0OoyJLRPS8Jm4XMLhI/EbFKeOZ/IC4qqZv+NhkrDPOPODLEweZwiI60OFycDH67bL5bV92/dmjkxCATpV2mL/UdiRGRzQj0aemVmTlWTDy77mG3JSO43NzT/CJ0ZaU/PLVTERfVCAvv/k/snCszK/XR6oU6osqb/6XP+Ds1U2UfSRdF4s6Ct3hgpkhI/XbZUj70cpkqEaKDAj70d7ivKWiOkuCHnWb53a5zOXvjt4/1yKQhrmOSnJ0pLEr+3aCMalzxQU+OWUJv8f4hneLvm8WRUOXk1GlSXlIerH6Ph9yHmMkd+w0fN5V8oUR0BkMEVDej9KlRssXzu5ZwlwkXnVIVb+EqCTcesTXIZhOUcqyL5xGy2pHopLIyWovDSZz0sPdarRspz+R+5fSmYFh1TL62UQrMMRqFVJlWKKU7fSzHMEyps6fhrJtYJ5PzqeZ51enXLVTgTSw+w8x8/PnZwkqve8fn/E6fFctfIjz37j5TyV/MCPD++YhgL1lpQEG/11YkV8nIvieckRjSv/TWL9D1WS0Zb+W94SvQz8fs+cuV463KBseRp/vpXcxxHg6vo56wC9H12TKi1fOOZdm+6ckEOZS18U80q8PRLyEXK6KE8JBWhkUJDBEFPa0KHDE1mM980fWleXXdRRoocOd7Q5VRnennelzssIaOq7/xKUb7dDrZ2j+T2uX18OG/Pksp7l11Nix19KINe6ey3pypCwtvIJL4/gruJqta88c+6kHQrUL1wIcRbuLSXVupPH6u2ZzxKbaeHctzRcO5L31xJSseCKE3OymfZS7/Z+pBhUQoF5Q5ILC+ZzKXPeSDHf8iUvYjzk2uBqmYiyEWiMkMuE9LoUy+J5DV+R/QIfEweXU15vq5K8m1ehMBP6lTATXhBLUiWr6j+4O8MF5/2orNH+/dBDs57cmKj8i4ig2U25aYSWK1vzs1qbmpruIXmM+Wp1o/En71yN6obi0j85vme6MIrYckWTZrQgy2ucC5PlzA2yCfYGKaFYcCUQ0PxU+v4DSQcSROYGKO68J90592l+9rIuCYgAja6fFXKt3wldalv4vZCDsxkq2TFfnyy9TBz1rT2bwcR4QfScZUPAMdeVTXA+8V1mrU6rsqQ+svQlWAnV5utMe7QXGPqSIb0fpcgXez/yBuKFdci86gR3qVppCJ+pReGGPbpNWkTy9D056TVQXPobuzdieTnSJRs6tY8+NHDujdRURSc1S5Yp6pQqHunDrTRYfgQM100PnGdZTFDcGXk/+ktitN/adDsKsp0PL/DP8VjkGVeRTvP28r0nv1qoVmy97/ieSShQf5gQa89783OvS5KQcmfea+QbPBzEnrnimmGRIQH305Vwx+Sz6qUFS2MqAfV+JC71eamxkEuj3xdEXDcNJO67JC5meuk+paowdqEUCtBoo5lcWOLm0kgEJ4v2z0wLBzYy9ZJdvknjs4D08ZQeaqXR0hFQ1PS8dTTX7oLiztckbc4HF3BXT6BSLb8YHznxRsoVx+q0uH5JU9P9S3vu2xW+Xv/sny6GgNkgPhV2Yox5TOpSJhitGU9xKR+S4CD2zN3GuKvFY5JgTXNbW9u3fXu6f1JrpK3W0tV1H1S60dPzC+QTA6r7rVjrV1gaU/OuDCcGkQ5k27EEuXTkqZjzGERKVclG8irUuVDjl1QqLH763EnsqXCYRJNInaIgTcBmVTi4y2nVViOndj4YEdQ8g9GRGXu3RrBs9pACmxMisZXdDobsxrKBH/3ptMTQG5IoGh5LEA6OQyR2VePoR3zmxBpB0RhEolfpRz8QMFzvCxhOiGTUtdv7kkfGTUnOMYjUpuodU1ypXKKAhAPU11xHr7ZWCRq3+TOXt/wed6w+ySCotlpETuvwxvMtVqmx44VAH6Cpt/eeeAGs96ODUqH1/pxEDCKt5uXP7CgttkPQQjQ28NmTPZmOgD3t4xbcppjRCdkZg1MaprXSniumLHsmAjlvr2KM8Z7EJY3Q1ZhMpq8HOr/g94sMpsuQ2mr00i7L73c2YU980oilcm+UoeVMIJ3mV5iyIb0f0fS1lgdyk0DAjACYpNdYfgn0ciB6tbJuQk9GOEh9yVt4N4PKo02cKnmxvwwi0BJdRz485LE39T+Qr42KgpqoQOYW/F5je/tPIjmWbqiN1ok82/S+2BY7AjNKrx1pmmLLWrf62/Hymr7fnGHYwbwfneeYx9cImE4obnpAWuJazc0fg6J3uUzl7L8yNuELYL217ctyOFgffu79iLdD6Sh6v9Rv8yr5Zb09+w+CeefrxXuUvXWG1p/7O7/g93F1Jiaktlq2sMPy5Kc3wYyDOpLe4venqUjdL4F62ZD3o2vaiiEo8D1CT8aitaphSHotQt8ckXsD8yDyflTUvuRgRZVcueQaEUdeeB2ZaZWGaRfdi8JdqNKMDHBg+kNQXdf9CqS2WgzP7Ho/tHkMBzKeP7uzEcsrbfP506Ss7dtwgOYYhwJ0mqLT8aci2hQUAKO0cvvvCjNmoOhxVHVW87lJuKDyRcPLrpnpfxONi0+pfTavQoYAC820cLAXvCkeqRLXve4PBsHuuRXaaleZN4ZxEHvmR6619OprW+6j+gA3vR8Ngno/OqOUWaDA9zwjEzulFIPR+3NR9lxngZWaA/LTM4Tub3GOjbwfVSQRez9SxHh3e4uDFc8L35FM87YtNdPC65XXDCqEKarzC96urKrvAGSsvmxJr+3P+5tmPYGMl3/7aSOWxW8roPogksq+CEjvRzm6JuvjeamgG0G05IB6QcqVbRZzMLGfZhyoVPO24j6vfpqRuqc8Vk/ZvApp5y1npoUDmvZc8bSBU3eA6vyCtkPaakmQsfrSXXOh6a0WHLxE+Zoz1x1iXQvpp6mxsfOHV3iWdqilxlG6bXpXabENCnwfCpiTW0QcBxS97SX88d4Uh5MqWMna9V0dHSs9oSX1fiQ6pbZlv8wnPTkUHtO4UJBNHLxEuThE+685OSwxmBIhtdVyJV2WZ7Yt3ggSgTqRfYP001RcYSpcD+ikPEtXZYUU0yXo1WBLDfRS1EkBxXTBM1gz96aYjgh4+HVkMqVO8b5BdJtpXaGm//Ev0e1A2moRLAtYrL4zDPvE9sjrDiIAe15/5WDTNEt+g/DTpG0wPRdSaAfzfnRZMDD6Dx5jFIqbBsklztfY9AkoeglyrWMgamKSjOtSre/OtjoYb0rmxWo4eIly9mb5CHuzlNC8Snm10pb1O+puennbFP016sZHQJcU3ohxyvv5kNpqGSXthBtBTzDj5bDMlubW1tb/8OwnOoChKwbKoJYayPtRrFYLKqaL1MrBxHRP5KdhrcUDIAHlEeDNZ6aw2ryWJfrKRGDGrxOZV2W/wJ8TB1E308LpqVOquJ5ze0vKyjrTashYfcnCgZE3g5oncKBSzX+3vRHLF7dd9XxIRW3fDkjvRxnqNsdzhZlgYrU4ndr6ZEHaHBR3LlHWW81hU6QSC6rcuZMztKyFCg40ojznLyWTpWe0I571RBYqnu08y24LFnHdO57zC1pGsfpo8gEtFPdDsfquFLb6zJ1x0O+JuT6gqm59GH9IpE+SKh6uherf9lQnFiwvA+OmLxXR5o7JRGD6H3/j5s9059lsVMFK1q7/0sR0eWyN38pH8qiKRV6X3DaEm+SENoSeIPYsy6/odQaD4cv4/ILnpZU9pyBj9eVIe2wv7GmawwHqa45OE1O5rfOfJrGh/8qWJBcGBeicikbLY/QUMLFaol5jeRBQ/0Ov6BhG3vLJgEq1vk3Q69XK2xNwnmXkXFEZ/3l4Y6JliOd9RGUkFtTdKivwhp6e78Jqq43MBiW3Wn0FsWf7t081u8Tlre/oajp/dgnQ+9HJQsvUJ2IOmPbbZhFn/CNBEZj+x2GxaMyU6HJRBStZO1OSyyXYpyYVqxGBD78uPKay5b0mnJGe1Y7QAzDTmqd3XH2jtbX1++DcubhiIAtSWy1X0mn57VZqYjpPEHuWYxktumJtPw9SnyS1wggqVrtaoQZbujxET8YaJH1w2nRITMfuXKRfgQPK1xw5KFenVVukl3Q+byyX+19uT0rZ1WmggNY2mZ7IU/YPpUvNIEmsN40wld3OTFHXEERiyztcwkqTPV/VPwSRig3No3S1fPxAftYQRApm5VlpirIxCFqIhlJXN9pZNmjrEg8OQaQOtWlMdq5idDlA+XONna92sg/LCMV4vtIsz6karFO1PQkGauhYfXny/mGodS4Sq9EV5iEoehsTXFgonzt8sYRn/ebuTWD+LaL4HMvXdm0ImN73Dn6CtbIAxXRnp7CanOsWxTUDSJCf3FdLZjclX7PGMLkBrcdx0OevEk0X71XYVMlGEQigFbXd6yFj9WWWDYzszRyZggJgrqLfsTPNOQNFL7Ws3vrdkANzyO3t/pwMsHDEPzi4DdtBSwmYXonIYDF7iatNtlb2rG/nDrglE1nP8Wfklw0B2wtmMEUW5Ozxf47tni66QqyIhAOWLC9Pr7Yg9VLkL7pS0LA+IFC7tdVKYWP1pUsGwbgzEqslA9Lbm+GY+zgva9411xFW3sh9x3ZPQbkDOM2kO350aPuMv/SeDT893U2z2T1B6W+5//L4pDKial6sJgktDyhQZuH20omXLoXOx305npvtl0wbBzl/n2qU8a54filUdlFnXM5HNmWQSyr7zkNqqzE1ZiukWI2l6bdA6pMkyrSLnCfeeXwnFsouDJir4gD+0va1WDCTPoSXfc31khawE0H0ErQKehZt3JCfOpWfHpGSH2RhUYXsRWP19d0bMXqudNH/wMFKliMzLUWsYWhhOyQW1DNqz1EG8MKGSFstmm9pg/qUH811TEfxLDYoeqcKbNMXOBYwN7hniwbGX14mqPyq5NiJFy+FzHMdX0Ho2X5NYszoM+EnRz2vk5X3pGW4+uNGx/zlxp739aWPjPA+Wbpx421TOJhrSn0ONs+KlS/7NVsTf8We/5aIsl4IDmDkppf2/FI3vYKDqs7r1dd/vBCrlH5ztb0FkNpqLG2/BVKsxlSbrJD6JFFiCaH3o8tCrntdSAY6qvXRfI7VF7e3d+1cjzUIesDEdOaQaayRtdSsCgcTmfYc3g7P05/kYUezsxZxZ3ws3F6XGEKfRILuaFqh5cveczNuoZFOCcR4o5vaanCx+q4UW0ZPFdhGobjzVeGw6xgdLqj8NWGb4xfngwhDRNwfcWp2XWocWDjix0OOTL8dH2nDJ50sT+dJbeaIqRlPLutvuatw2EZ7sYRQhznvDeGEKEhD2byqIE/uVSL027DjY4xjZaS61fgLokmvsqQ99nk0Lfw6njPeL7VVy+r/hOPVa34rtNUgxWrIqTitbABsY/lxkgs7wWUScmfclVdECduGAuqQgY9q/SU+2ysIcDr3HtmJtRcNg62dzecmZw3pDaRWJrJoauZV9P8tmV6TEE36ckYymF6tX+bB+p5kmrON2Cc13k6VUCmn5NoCOlZfnnzQDilWK1Ca7dtSXbNQ3D5ZVm39Dwph1pDb2yMFtGU/qzj4fMm/u/9jbG9OGqnvOZmo1jIYAmdW1V5sogSsjKd4c8q4SlLgp3FEFirLpx8c2jbDiJeRigXVaUarNzMtHNC0PwqmKrn1271y55vaaoNg2mooVl+yxAzGTfdkuObiS4bBFPcPZTtm1manUg6EubeINvLA6f0TvgDXW9tjBTSHN7Hgq5HnJ3rT7CP+Li087zPFjI3LwgyUlxKikxqrN/OqokPS0d+HB1He4B7IyljWghwHqduB49/JzbTw9qXh2tqagYFvEIIaWlsNbQQhxWosTZ8VUp8EBZX3NVRxBJ8FxqXv3L4WC2UWENKrEreDbQQRuJu5PctutHCAeOY39TKWN69CYrUL+UyfRJBf3bkBy8mXLCvGW+hi17MfRGXkdUmXV3tlWUDfjNUH5/3oZL59OoINKFZj2ifCimwOqKXGebZp7Lm4Cz4Hk38pIWri1ahwhzfO60vdqpgLE3+6+PlhBH5vSE7BCKT3o95M2wjzA6nP3o6YG6VO7hbZuCeoWIlKuz+HRG/FRjry14iWiAWV8ZWLnKB7/j+icvFuZW/rcl6XoGP1Mcv7LZBitUK1CWypgbwfXRCJKEerwjeGeB4l5Fnu2rEuYL0MHLzRJYvFgl/ftRFr5vXCcWfk/YhBLKYjAgt+Xe3hJQmJ1fZnpRN+WfDnIsoTiviLvhQoTIXwxNIwFfj/95ajY3FNelXRIi6trOl5FdL70U2xmn0MiptmSAdHDmQ7J6DoJZS22O8NPz6NA9TX/N7wY3OfZCSSbuiIJtTz+v1B+2fXJsfNiwXz+AobqPcj5vLej7wBZWFd7iuCScnZ8vkjcnqhNCBFq0eCD00wQsvm1/LqDKN1uUBCC/vg7TfyulQtaXrDDWq396MyswoKLEisli2DE6ttTnJh6VI4/Y+taU7sAKOAVExHBvIwHtP2nwe3znqC09/yBU6RWyx4/4l9sx35w4DejyandYn1pNIKb4BBdbJLOkv6ExyM/q54enXsxYADfJ4tKHRLW9gbyybY64lDvZH1C69XxOnVyETwDllV36Fd6XCx+gqUA6BiNYam3/px8ugc1AuXLK+yfC1oaVB5MgB71t91cjcWVJTr92fXE/homXE4P2tYLW4A9X7Uzu+zoA0cPvH+5mm/5rjNq5JYJdYvbPso4OXWPfs/mStIlVlVSZ+bbPnbN3Qf0has5NYdvJe+cYoAAAfoSURBVIOvautN4twwQ6QUzg0zT9E2BkEL0Ujl3jDz5C3jUPTSeDcGdxXmEgaV9wQtWXlvQY7jWGF2xQF6ugIiFagUXdeV3c4WpskMkth9VmVk5by2WiCAQfcq0o32eLFg5HB+phki5SnlY0VrfdcbIXoOebTeeEeBuDnuyY/KsYfe0YCk5KIGy+MfQNJrtDz6Hkzf0DPGlMgsd5IElicDMl4fIeSKF21GAArsaxrxth8nYhBp+38nYvxr2kUaa0RgILue8hAL09Kqck4wslWeXxd/y1/esQ7LYkgWbRDJ+kFU73acnlcdewcKBxAcX1sHBeg/fqLDghNrLVD0Xt1ZMXs0rsYKRW/VAd3MmsxkyocpOHg985fjLw8LDYanATC8iES5ouY3l95hmiEAjWiEvpI/Jjihmt+AEQGC7LrgkKqz2dj8I055+V+fOnsSTGz5atRZZ+HHkoDNtUrDdHUNgw3fdA9msbJl18vbKyahQHMlt87+/GbdDBS9a/mN1mc2aOeg6MVwyq3fonDc7QlivPzl4zuxqzJxxiIkAhaE2RW0nT9NBuHSCNScGLUFHVyQgZaoPuNJ3pyeUReGP2JMCY9H5bibKue+WsRb9rCFqD+e12kvCKYNxXW78P7dgZQ8ruQ0yKAA86sPtFhMbuMwFL3ffKjBomj1YPSeXq/FDjOXhiPGAUuWb6an3TC2GuFN6z+bkaam3ntS9pdch+LSBx9NnxVFaf2WdMgvVxgWWorIa3Q/Wx13sZsqYMna/b+T+yYZF8uWeF3yBC5RWRWvX6qoVFrR/oePgoxgS4VD0TWutw4ZxqBAHZxQ63xjj34Cit5ZmsHx8/MnpsjA61l/Dwoqr5afnucGt+iHnFl1+uCjGbNQoM48IbFleVEZJQJLzl+E4/riuo88HzNDJo6DNCIOzqO7xYJE/SC6zni31GaUNL7s2T93mVbcxHjkfbgNGNogPvwuHL3EwgawFw69GOf5Qp9PC09wGbfWPdVnM4MC1+efk2uhAL3zJ0mYMEHn8wZMlVwpXA4saO+1Iyu5joz7Uq3/9t4tWD5N5tPSA+maaGg1+cv1z33N0Nj5w/2R1e1QXPDtw/qZPRer7FD01p02TnwaZnRA0fs4vGL8pYQopycXJio/EhnqYlWq3iUcQOAKdXHNW6Gv0F1QoI5ex3YyN5ZS3oCxt5QN1emaCf1hFJYrd/30+K5JqqAla7chOc6W84Zwhogbe17n71d21lXcuNfrsLNKmy88vR5uA5bIaLT8BlAsmMJsBBULxpQoFxnGEoEZXb8oLuZ5HbxbUMlL0pQg8RsUqAWJ1FzbIo9F5bk1yd4eCe29govyZGRApVqP3B+kF4kpfUXSn+BihqKaC976565Di/8zKfVGKC74zAYtdialDmxD96dPK7DToGJB3ezGnPR51wVEgF6VEjtQVlPzz3PC/dlMGQzXH4hexzVBATroBfoE/5R6Xi/Dk+vhZfFJ9Y3r103fIwNMsbHiD3+4EAym1/L8+VOuwn1SUh970ghdVUdHx1fJ+ueuF6haN726q2IcCtRRWQ2Ol7frpqHoXcmpt0GKBaNZWtt3Qg/MEYH5qyd3YwlySTylwbsFjSR0ffKuX6SAcemiSNUit7c4iPEcef3UF9Udp/ooV8XFDMRdqXJisnbRDI5Xr0u5fxZMGAV1m6j2z90uobBBAgXAR97TYHH0hiEoerdCLHiSzSLcIG4vyPrXBLL5bMZQgKaMo5J6KC69/8G0OWFMOaEYTxln0KJNKVXAGBobf/hBwpV2MqBSrb/36M6ZojgZoZ9qVZLR9xNapbbrifWnjWYoEG47Vz2+9pTRCUXvSEyN662DcGLBoGS98+FLwROeXPq/zh6eydEoDlKd3FvVTsGtOnjkSdo0FKhTD4rs9L8KZ3GujOd5q0SuKlHz274+B00mjYA0Ij6STbMivWu8X3jOXC8dblC2+HdCSytuyvkVoF5GOrfJ8u8sFowqES9RKw0VsJBa4r8uGORnyEJ9YFxSKqEAvd0txlscohgZp6qTjSxfwYzaI7dx+3IzjFS5MFm75bwuITGdLrcm05/+ue9BJ1ZHrtRch+Kqr+/Wzx6KhtPzQGLBXYBiwbXBhonXk2MdOJd+Mjp8hFOpuak47vcowt2oLq17JfyNAjsUqC/+o8jJ2SadN6/i7ZD3G7UND/nbY6ZGten+oP3jZGClWv/O1ShH7tufe10SHlG1Bez8nCNtDX52k24WCtRJjCYrpFgwidEEKhaM5assXzmxG0MaeVFiwb9HQPUFCOOnlrO335sEtkEsji+3Ir90yLGLjl4ds+Bf+fXzPLdQQhWwZO2Q3nUiQ+DWFsx8mjdnKKoN9qtTC29Cm4OLmfU6KEA/uVaLnU+H08v4/WYtdjalDuwEEYkFt+bnWN7JiO9V19X9fOFY/Dv8Nhobf3L14+IuKC59/GnadMlZjb00rLxpuTB5vj6zsLLyiZcuhZrJwEq1/vEzR8eKgmVOWZS+AiyAkEB9/b0jsTX9289XD0AkurDZeii6ZhiCFqJRIGq27YusHoKilyOrtNHUikRfJ/Of1b6Ubrgcu5k7ELMJJilY1TYDv2E/VP8TxSUZf4+7OACVmAqlvUZY/x5U/9x0Ojo67u7q6voOVGrtb/0+FC1EB5Jeb2/vPRiG3QU6gIDEkO0c5NghWpTcalF8BvRVh+yfL+vm/wNRxLr6pQ6+xwAAAABJRU5ErkJggg==)"
      ]
    },
    {
      "cell_type": "markdown",
      "metadata": {
        "id": "SHs1JJGb3zBj"
      },
      "source": [
        "## ¿Qué es JAX y cuáles son sus principales características?\n",
        "### JAX: Biblioteca de Computación Numérica de Alto Rendimiento\n",
        "\n",
        "**JAX** es una biblioteca de Python desarrollada por *Google Research* que se especializa en computación numérica de alto rendimiento. Ofrece capacidades de **diferenciación automática** y **compilación just-in-time (JIT)** para optimizar y acelerar cálculos en hardware como **GPUs** y **TPUs**. Su API es similar a la de **NumPy**, lo que facilita su adopción para quienes ya están familiarizados con esta biblioteca.\n",
        "\n",
        "\n"
      ]
    },
    {
      "cell_type": "markdown",
      "metadata": {
        "id": "dcuLIU4q4Nw5"
      },
      "source": [
        "## Características destacadas\n",
        "\n",
        "- **Diferenciación automática**:  \n",
        "  Permite calcular derivadas de funciones de manera eficiente, esencial para el entrenamiento de modelos de aprendizaje profundo.\n",
        "\n",
        "- **Compilación Just-In-Time (JIT)**:  \n",
        "  Optimiza funciones de Python en código máquina eficiente, mejorando el rendimiento en hardware acelerado.\n",
        "\n",
        "- **Vectorización y paralelismo**:  \n",
        "  Facilita la ejecución eficiente de código en diferentes plataformas de hardware.\n",
        "\n",
        "¡ Lleva tus cálculos al siguiente nivel! 🚀"
      ]
    },
    {
      "cell_type": "markdown",
      "metadata": {
        "id": "oigx2qHZ5uqV"
      },
      "source": []
    },
    {
      "cell_type": "markdown",
      "metadata": {
        "id": "APM0hSH95v1q"
      },
      "source": [
        "-------------------------------------------------------------------------------------------"
      ]
    },
    {
      "cell_type": "markdown",
      "metadata": {
        "id": "yiI4EzhC5k18"
      },
      "source": [
        "## Comparación de JAX, TensorFlow y PyTorch\n",
        "\n",
        "**JAX**, **TensorFlow** y **PyTorch** son marcos populares para el desarrollo de modelos de aprendizaje profundo, cada uno con sus propias fortalezas:\n",
        "\n",
        "#### **TensorFlow**\n",
        "- **Desarrollador**: Google Brain  \n",
        "- **Lanzamiento**: 2015  \n",
        "- **Fortalezas**:  \n",
        "  - Marco maduro que admite una amplia gama de tareas de aprendizaje automático.  \n",
        "  - Control de bajo nivel sobre la arquitectura del modelo.  \n",
        "  - Amplia selección de plataformas disponibles, desde dispositivos móviles hasta sistemas distribuidos a gran escala.  \n",
        "\n",
        "####  **PyTorch**\n",
        "- **Desarrollador**: Laboratorio de Investigación de IA de Facebook  \n",
        "- **Lanzamiento**: 2016  \n",
        "- **Fortalezas**:  \n",
        "  - Popular por su **facilidad de uso** y su **gráfico computacional dinámico**, que permite:  \n",
        "    - Depuración más sencilla.  \n",
        "    - Modificaciones en tiempo de ejecución.  \n",
        "  - Especialmente apreciado en la comunidad de investigación.  \n",
        "\n",
        "#### **JAX**\n",
        "- **Desarrollador**: Google Research  \n",
        "- **Lanzamiento**: 2018 base\n",
        "- **Lanzamiento**: 2020 suficientemente adaptada para ser considerada como una herramienta para redes neuronales.  \n",
        "- **Fortalezas**:  \n",
        "  - Enfoque **funcional** y capacidades avanzadas:  \n",
        "    - **Diferenciación automática**.  \n",
        "    - **Compilación Just-In-Time (JIT)**.  \n",
        "  - Alto rendimiento y flexibilidad, ideal para proyectos de investigación avanzados.  \n",
        "  - Utilizado por equipos como DeepMind y Google AI.\n",
        "\n",
        "---\n",
        "\n",
        "Cada marco tiene su nicho:  \n",
        "- **TensorFlow** es ideal para aplicaciones de producción escalables.  \n",
        "- **PyTorch** sobresale en investigación y desarrollo iterativo.  \n",
        "- **JAX** se centra en optimizar el rendimiento y la diferenciación automática en hardware acelerado. 🚀\n"
      ]
    },
    {
      "cell_type": "markdown",
      "metadata": {
        "id": "diGAHkFF9y0U"
      },
      "source": [
        "---\n",
        "## Ecosistema: Librerías implementadas sobre JAX y herramientas relacionadas\n",
        "\n",
        "El ecosistema de **JAX** está en crecimiento y cuenta con varias bibliotecas y herramientas que amplían sus capacidades:\n",
        "\n",
        "### Bibliotecas principales\n",
        "\n",
        "- **Flax**  \n",
        "  Una biblioteca de alto nivel para la construcción de redes neuronales sobre JAX, desarrollada por Google. Ofrece un diseño modular que facilita la personalización y la separación de la lógica del modelo y el entrenamiento.\n",
        "\n",
        "- **Optax**  \n",
        "  Una biblioteca de optimización que proporciona una variedad de algoritmos de optimización para el entrenamiento de modelos en JAX.\n",
        "\n",
        "- **Haiku**  \n",
        "  Desarrollada por DeepMind, es otra biblioteca de alto nivel que simplifica la construcción de modelos de aprendizaje profundo con JAX, siguiendo un enfoque simple y flexible.\n",
        "\n",
        "### Integración con otras herramientas\n",
        "\n",
        "JAX se integra perfectamente con otras herramientas y bibliotecas del ecosistema de Python, como:\n",
        "\n",
        "- **NumPy**  \n",
        "  Para operaciones matemáticas avanzadas y manejo de arreglos.\n",
        "\n",
        "- **SciPy**  \n",
        "  Para cálculos científicos y algoritmos optimizados.\n",
        "\n",
        "Estas integraciones facilitan la adopción de JAX en proyectos existentes, combinando potencia y flexibilidad.\n"
      ]
    },
    {
      "cell_type": "markdown",
      "metadata": {
        "id": "KtFqB33K-Kyl"
      },
      "source": [
        "# • Ejemplo práctico.\n",
        "\n",
        "Par este ejemplo utilizaremos el dataset wine de sklearn. Este dataset contiene características químicas y organolépticas de vinos y su calidad clasificada en 3 categorías. Haremos un clasificador que diga si un vino es malo, normal o bueno."
      ]
    },
    {
      "cell_type": "code",
      "execution_count": 1,
      "metadata": {
        "id": "_f1GHmZVXIDq",
        "colab": {
          "base_uri": "https://localhost:8080/"
        },
        "outputId": "69405fc8-1607-4249-8048-8ad103891fdc"
      },
      "outputs": [
        {
          "output_type": "stream",
          "name": "stdout",
          "text": [
            "\u001b[?25l   \u001b[90m━━━━━━━━━━━━━━━━━━━━━━━━━━━━━━━━━━━━━━━━\u001b[0m \u001b[32m0.0/76.7 kB\u001b[0m \u001b[31m?\u001b[0m eta \u001b[36m-:--:--\u001b[0m\r\u001b[2K   \u001b[91m━━━━━━━━━━━━━━━━━━━━━━━━━━━━━━━━━━━━━\u001b[0m\u001b[90m╺\u001b[0m\u001b[90m━━\u001b[0m \u001b[32m71.7/76.7 kB\u001b[0m \u001b[31m100.2 MB/s\u001b[0m eta \u001b[36m0:00:01\u001b[0m\r\u001b[2K   \u001b[90m━━━━━━━━━━━━━━━━━━━━━━━━━━━━━━━━━━━━━━━━\u001b[0m \u001b[32m76.7/76.7 kB\u001b[0m \u001b[31m1.2 MB/s\u001b[0m eta \u001b[36m0:00:00\u001b[0m\n",
            "\u001b[?25h"
          ]
        }
      ],
      "source": [
        "!pip install -q jax jaxlib jax_metrics optax"
      ]
    },
    {
      "cell_type": "code",
      "execution_count": 2,
      "metadata": {
        "id": "SGE2U3Mx-Kky"
      },
      "outputs": [],
      "source": [
        "# Importación de librerias que usaremos.\n",
        "import jax\n",
        "import jax.numpy as jnp\n",
        "from jax import grad, jit, vmap\n",
        "from jax import random\n",
        "from jax.example_libraries import stax\n",
        "import jax_metrics as jm\n",
        "import matplotlib.pyplot as plt\n",
        "import optax\n",
        "from sklearn.datasets import load_wine\n",
        "from sklearn.model_selection import train_test_split\n",
        "from sklearn.preprocessing import StandardScaler\n",
        "from sklearn.metrics import accuracy_score\n",
        "from sklearn.metrics import confusion_matrix, ConfusionMatrixDisplay"
      ]
    },
    {
      "cell_type": "code",
      "execution_count": 3,
      "metadata": {
        "id": "Oo9mlNzSIzme"
      },
      "outputs": [],
      "source": [
        "# Carga de datos\n",
        "dataset = load_wine()"
      ]
    },
    {
      "cell_type": "code",
      "execution_count": 4,
      "metadata": {
        "colab": {
          "base_uri": "https://localhost:8080/"
        },
        "id": "qIW4T8LXI2vr",
        "outputId": "adde9d3d-99a1-4801-93ca-3ab22129cff3"
      },
      "outputs": [
        {
          "output_type": "stream",
          "name": "stdout",
          "text": [
            ".. _wine_dataset:\n",
            "\n",
            "Wine recognition dataset\n",
            "------------------------\n",
            "\n",
            "**Data Set Characteristics:**\n",
            "\n",
            ":Number of Instances: 178\n",
            ":Number of Attributes: 13 numeric, predictive attributes and the class\n",
            ":Attribute Information:\n",
            "    - Alcohol\n",
            "    - Malic acid\n",
            "    - Ash\n",
            "    - Alcalinity of ash\n",
            "    - Magnesium\n",
            "    - Total phenols\n",
            "    - Flavanoids\n",
            "    - Nonflavanoid phenols\n",
            "    - Proanthocyanins\n",
            "    - Color intensity\n",
            "    - Hue\n",
            "    - OD280/OD315 of diluted wines\n",
            "    - Proline\n",
            "    - class:\n",
            "        - class_0\n",
            "        - class_1\n",
            "        - class_2\n",
            "\n",
            ":Summary Statistics:\n",
            "\n",
            "============================= ==== ===== ======= =====\n",
            "                                Min   Max   Mean     SD\n",
            "============================= ==== ===== ======= =====\n",
            "Alcohol:                      11.0  14.8    13.0   0.8\n",
            "Malic Acid:                   0.74  5.80    2.34  1.12\n",
            "Ash:                          1.36  3.23    2.36  0.27\n",
            "Alcalinity of Ash:            10.6  30.0    19.5   3.3\n",
            "Magnesium:                    70.0 162.0    99.7  14.3\n",
            "Total Phenols:                0.98  3.88    2.29  0.63\n",
            "Flavanoids:                   0.34  5.08    2.03  1.00\n",
            "Nonflavanoid Phenols:         0.13  0.66    0.36  0.12\n",
            "Proanthocyanins:              0.41  3.58    1.59  0.57\n",
            "Colour Intensity:              1.3  13.0     5.1   2.3\n",
            "Hue:                          0.48  1.71    0.96  0.23\n",
            "OD280/OD315 of diluted wines: 1.27  4.00    2.61  0.71\n",
            "Proline:                       278  1680     746   315\n",
            "============================= ==== ===== ======= =====\n",
            "\n",
            ":Missing Attribute Values: None\n",
            ":Class Distribution: class_0 (59), class_1 (71), class_2 (48)\n",
            ":Creator: R.A. Fisher\n",
            ":Donor: Michael Marshall (MARSHALL%PLU@io.arc.nasa.gov)\n",
            ":Date: July, 1988\n",
            "\n",
            "This is a copy of UCI ML Wine recognition datasets.\n",
            "https://archive.ics.uci.edu/ml/machine-learning-databases/wine/wine.data\n",
            "\n",
            "The data is the results of a chemical analysis of wines grown in the same\n",
            "region in Italy by three different cultivators. There are thirteen different\n",
            "measurements taken for different constituents found in the three types of\n",
            "wine.\n",
            "\n",
            "Original Owners:\n",
            "\n",
            "Forina, M. et al, PARVUS -\n",
            "An Extendible Package for Data Exploration, Classification and Correlation.\n",
            "Institute of Pharmaceutical and Food Analysis and Technologies,\n",
            "Via Brigata Salerno, 16147 Genoa, Italy.\n",
            "\n",
            "Citation:\n",
            "\n",
            "Lichman, M. (2013). UCI Machine Learning Repository\n",
            "[https://archive.ics.uci.edu/ml]. Irvine, CA: University of California,\n",
            "School of Information and Computer Science.\n",
            "\n",
            ".. dropdown:: References\n",
            "\n",
            "    (1) S. Aeberhard, D. Coomans and O. de Vel,\n",
            "    Comparison of Classifiers in High Dimensional Settings,\n",
            "    Tech. Rep. no. 92-02, (1992), Dept. of Computer Science and Dept. of\n",
            "    Mathematics and Statistics, James Cook University of North Queensland.\n",
            "    (Also submitted to Technometrics).\n",
            "\n",
            "    The data was used with many others for comparing various\n",
            "    classifiers. The classes are separable, though only RDA\n",
            "    has achieved 100% correct classification.\n",
            "    (RDA : 100%, QDA 99.4%, LDA 98.9%, 1NN 96.1% (z-transformed data))\n",
            "    (All results using the leave-one-out technique)\n",
            "\n",
            "    (2) S. Aeberhard, D. Coomans and O. de Vel,\n",
            "    \"THE CLASSIFICATION PERFORMANCE OF RDA\"\n",
            "    Tech. Rep. no. 92-01, (1992), Dept. of Computer Science and Dept. of\n",
            "    Mathematics and Statistics, James Cook University of North Queensland.\n",
            "    (Also submitted to Journal of Chemometrics).\n",
            "\n"
          ]
        }
      ],
      "source": [
        "# Comprobación de que el dataset se ha cargado correctamente.\n",
        "print(dataset.DESCR)"
      ]
    },
    {
      "cell_type": "code",
      "execution_count": 5,
      "metadata": {
        "colab": {
          "base_uri": "https://localhost:8080/"
        },
        "id": "iJhxirM-DFVF",
        "outputId": "1fa84763-c4d4-407d-df0f-6a21f469c8ac"
      },
      "outputs": [
        {
          "output_type": "execute_result",
          "data": {
            "text/plain": [
              "['alcohol',\n",
              " 'malic_acid',\n",
              " 'ash',\n",
              " 'alcalinity_of_ash',\n",
              " 'magnesium',\n",
              " 'total_phenols',\n",
              " 'flavanoids',\n",
              " 'nonflavanoid_phenols',\n",
              " 'proanthocyanins',\n",
              " 'color_intensity',\n",
              " 'hue',\n",
              " 'od280/od315_of_diluted_wines',\n",
              " 'proline']"
            ]
          },
          "metadata": {},
          "execution_count": 5
        }
      ],
      "source": [
        "# Datos de cada muestra de vino\n",
        "dataset.feature_names"
      ]
    },
    {
      "cell_type": "code",
      "execution_count": 6,
      "metadata": {
        "colab": {
          "base_uri": "https://localhost:8080/"
        },
        "id": "J267LvwtHsVt",
        "outputId": "bde65f08-e405-4f70-ee0a-0f1b70581c96"
      },
      "outputs": [
        {
          "output_type": "execute_result",
          "data": {
            "text/plain": [
              "array([[1.423e+01, 1.710e+00, 2.430e+00, ..., 1.040e+00, 3.920e+00,\n",
              "        1.065e+03],\n",
              "       [1.320e+01, 1.780e+00, 2.140e+00, ..., 1.050e+00, 3.400e+00,\n",
              "        1.050e+03],\n",
              "       [1.316e+01, 2.360e+00, 2.670e+00, ..., 1.030e+00, 3.170e+00,\n",
              "        1.185e+03],\n",
              "       ...,\n",
              "       [1.327e+01, 4.280e+00, 2.260e+00, ..., 5.900e-01, 1.560e+00,\n",
              "        8.350e+02],\n",
              "       [1.317e+01, 2.590e+00, 2.370e+00, ..., 6.000e-01, 1.620e+00,\n",
              "        8.400e+02],\n",
              "       [1.413e+01, 4.100e+00, 2.740e+00, ..., 6.100e-01, 1.600e+00,\n",
              "        5.600e+02]])"
            ]
          },
          "metadata": {},
          "execution_count": 6
        }
      ],
      "source": [
        "# Matríz de las caracteristicas\n",
        "X = dataset.data\n",
        "X"
      ]
    },
    {
      "cell_type": "code",
      "execution_count": 7,
      "metadata": {
        "colab": {
          "base_uri": "https://localhost:8080/"
        },
        "id": "VlaziADSHsPy",
        "outputId": "8ddf5551-3cd7-4887-e388-85593dc348c8"
      },
      "outputs": [
        {
          "output_type": "execute_result",
          "data": {
            "text/plain": [
              "(178, 13)"
            ]
          },
          "metadata": {},
          "execution_count": 7
        }
      ],
      "source": [
        "# Forma de la matríz\n",
        "X.shape"
      ]
    },
    {
      "cell_type": "code",
      "execution_count": 8,
      "metadata": {
        "colab": {
          "base_uri": "https://localhost:8080/"
        },
        "id": "dQjAeJJ2CT4k",
        "outputId": "1f5ad210-5def-4dfc-d743-508e5f5ffd13"
      },
      "outputs": [
        {
          "output_type": "execute_result",
          "data": {
            "text/plain": [
              "array([0, 0, 0, 0, 0, 0, 0, 0, 0, 0, 0, 0, 0, 0, 0, 0, 0, 0, 0, 0, 0, 0,\n",
              "       0, 0, 0, 0, 0, 0, 0, 0, 0, 0, 0, 0, 0, 0, 0, 0, 0, 0, 0, 0, 0, 0,\n",
              "       0, 0, 0, 0, 0, 0, 0, 0, 0, 0, 0, 0, 0, 0, 0, 1, 1, 1, 1, 1, 1, 1,\n",
              "       1, 1, 1, 1, 1, 1, 1, 1, 1, 1, 1, 1, 1, 1, 1, 1, 1, 1, 1, 1, 1, 1,\n",
              "       1, 1, 1, 1, 1, 1, 1, 1, 1, 1, 1, 1, 1, 1, 1, 1, 1, 1, 1, 1, 1, 1,\n",
              "       1, 1, 1, 1, 1, 1, 1, 1, 1, 1, 1, 1, 1, 1, 1, 1, 1, 1, 1, 1, 2, 2,\n",
              "       2, 2, 2, 2, 2, 2, 2, 2, 2, 2, 2, 2, 2, 2, 2, 2, 2, 2, 2, 2, 2, 2,\n",
              "       2, 2, 2, 2, 2, 2, 2, 2, 2, 2, 2, 2, 2, 2, 2, 2, 2, 2, 2, 2, 2, 2,\n",
              "       2, 2])"
            ]
          },
          "metadata": {},
          "execution_count": 8
        }
      ],
      "source": [
        "# Seleccionamos el target\n",
        "y = dataset.target\n",
        "y"
      ]
    },
    {
      "cell_type": "code",
      "execution_count": 9,
      "metadata": {
        "colab": {
          "base_uri": "https://localhost:8080/"
        },
        "id": "SXb99XSHCz0y",
        "outputId": "699e4348-6fc2-42cb-8ea9-3216d3e4351c"
      },
      "outputs": [
        {
          "output_type": "execute_result",
          "data": {
            "text/plain": [
              "Array([0, 1, 2], dtype=int32)"
            ]
          },
          "metadata": {},
          "execution_count": 9
        }
      ],
      "source": [
        "# Categorías unicas del target\n",
        "jnp.unique(y)"
      ]
    },
    {
      "cell_type": "code",
      "execution_count": 10,
      "metadata": {
        "colab": {
          "base_uri": "https://localhost:8080/"
        },
        "id": "lxmhSrRrC583",
        "outputId": "c12bacc4-8681-4bb3-8683-d9e3ef6240e1"
      },
      "outputs": [
        {
          "output_type": "execute_result",
          "data": {
            "text/plain": [
              "Array([59, 71, 48], dtype=int32)"
            ]
          },
          "metadata": {},
          "execution_count": 10
        }
      ],
      "source": [
        "# Cuenta cuántos casos hay en cada categoría.\n",
        "jnp.bincount(y)"
      ]
    },
    {
      "cell_type": "code",
      "execution_count": 11,
      "metadata": {
        "id": "DyGx8mH1Dol3"
      },
      "outputs": [],
      "source": [
        "# Guarda en un diccionario cuántas ocurrencias hay para cada categoria.\n",
        "categorias, cantidad = jnp.unique(y, return_counts=True)\n",
        "# Convert JAX arrays to Python lists before creating the dictionary.\n",
        "params = dict(zip(categorias.tolist(), cantidad.tolist()))"
      ]
    },
    {
      "cell_type": "code",
      "execution_count": 12,
      "metadata": {
        "colab": {
          "base_uri": "https://localhost:8080/",
          "height": 472
        },
        "id": "_stMjkreDtOu",
        "outputId": "8f4ad3b1-89c0-4d1a-9b50-b012280a0f9a"
      },
      "outputs": [
        {
          "output_type": "display_data",
          "data": {
            "text/plain": [
              "<Figure size 640x480 with 1 Axes>"
            ],
            "image/png": "[encoded data removed]"
          },
          "metadata": {}
        }
      ],
      "source": [
        "# Gráfica de la distribuición de los vinos.\n",
        "x = [0,1,2]\n",
        "labels = [\"Malo\",\"Normal\",\"Bueno\"]\n",
        "color_vino = \"#7a2a3f\"\n",
        "plt.bar(categorias, cantidad, color=color_vino)\n",
        "plt.xticks(x,labels)\n",
        "plt.xlabel('Categoría')\n",
        "plt.ylabel('Cantidad')\n",
        "plt.title('Distribución de los vinos')\n",
        "plt.show()"
      ]
    },
    {
      "cell_type": "code",
      "execution_count": 13,
      "metadata": {
        "id": "z5g9yfCfEIbK"
      },
      "outputs": [],
      "source": [
        "# Datos de entrenamiento\n",
        "X_train, X_test, y_train, y_test = train_test_split(X, y, test_size=0.2, random_state=42)"
      ]
    },
    {
      "cell_type": "markdown",
      "source": [
        "\n",
        "1. **`scaler = StandardScaler()`**  \n",
        "   - Crea un objeto para estandarizar los datos, ajustando las características a media 0 y desviación estándar 1.\n",
        "\n",
        "2. **`X_train = scaler.fit_transform(X_train)`**  \n",
        "   - Calcula la media y desviación estándar de `X_train` (con `fit`) y lo estandariza (con `transform`).\n",
        "\n",
        "3. **`X_test = scaler.transform(X_test)`**  \n",
        "   - Estandariza `X_test` usando las estadísticas calculadas en `X_train` para mantener consistencia.\n"
      ],
      "metadata": {
        "id": "Ke6-7WCaT1Zl"
      }
    },
    {
      "cell_type": "code",
      "source": [
        "scaler = StandardScaler()\n",
        "X_train = scaler.fit_transform(X_train)\n",
        "X_test = scaler.transform(X_test)"
      ],
      "metadata": {
        "id": "hOZYkRsKCI2m"
      },
      "execution_count": 14,
      "outputs": []
    },
    {
      "cell_type": "code",
      "source": [
        "print(\"Forma de X_train:\", X_train.shape)  # Ejemplo: (142, 13)\n",
        "print(\"Forma de X_test:\", X_test.shape)    # Ejemplo: (30, 13)"
      ],
      "metadata": {
        "colab": {
          "base_uri": "https://localhost:8080/"
        },
        "id": "qc7sCxql4ljo",
        "outputId": "c4ceba1d-e9cd-4275-c59f-e716b7af2b3b"
      },
      "execution_count": 15,
      "outputs": [
        {
          "output_type": "stream",
          "name": "stdout",
          "text": [
            "Forma de X_train: (142, 13)\n",
            "Forma de X_test: (36, 13)\n"
          ]
        }
      ]
    },
    {
      "cell_type": "markdown",
      "source": [
        "1. **`key = random.PRNGKey(0)`**  \n",
        "   - Genera una clave aleatoria inicial para la librería JAX, basada en un generador de números pseudoaleatorios (PRNG). El argumento `0` es la semilla que asegura reproducibilidad.\n"
      ],
      "metadata": {
        "id": "-kk0qQRtUFAm"
      }
    },
    {
      "cell_type": "code",
      "source": [
        "# Generar clave aleatoria\n",
        "key = random.PRNGKey(0)"
      ],
      "metadata": {
        "id": "4uGGhYpj7Dw2"
      },
      "execution_count": 16,
      "outputs": []
    },
    {
      "cell_type": "code",
      "source": [
        "# --------------------------------------\n",
        "# Paso 1: Verificar formas de X_train y X_test\n",
        "# --------------------------------------\n",
        "print(\"Forma original de X_train:\", X_train.shape)\n",
        "print(\"Forma original de X_test:\", X_test.shape)\n"
      ],
      "metadata": {
        "colab": {
          "base_uri": "https://localhost:8080/"
        },
        "id": "B8C9HY-i7Fq4",
        "outputId": "0989c4e5-dcf2-4712-c0ac-4fd137814898"
      },
      "execution_count": 17,
      "outputs": [
        {
          "output_type": "stream",
          "name": "stdout",
          "text": [
            "Forma original de X_train: (142, 13)\n",
            "Forma original de X_test: (36, 13)\n"
          ]
        }
      ]
    },
    {
      "cell_type": "markdown",
      "source": [
        "1. **stax.serial**\n",
        "   - Es una función de JAX que permite construir un modelo secuencial, donde las capas están organizadas en el orden en que se definen.\n",
        "   - El modelo resultante devuelve tres funciones principales:  \n",
        "     - **`init_fn`**: Inicializa los parámetros del modelo.  \n",
        "     - **`apply_fn`**: Aplica el modelo a los datos de entrada para calcular salidas.\n",
        "\n",
        "2. **Modelo definido**\n",
        "   - **`stax.Dense(16)`**: Capa completamente conectada con 16 neuronas.\n",
        "   - **`stax.Relu`**: Función de activación ReLU, que aplica `max(0, x)` a cada neurona.\n",
        "   - **`stax.Dense(8)`**: Capa completamente conectada con 8 neuronas.\n",
        "   - **`stax.Relu`**: Otra capa con activación ReLU.\n",
        "   - **`stax.Dense(3)`**: Capa completamente conectada con 3 neuronas, que define la salida.\n",
        "   - **`stax.Softmax`**: Función de activación Softmax, usada comúnmente en problemas de clasificación multiclase para convertir las salidas en probabilidades."
      ],
      "metadata": {
        "id": "k7qSkCZSUSVc"
      }
    },
    {
      "cell_type": "code",
      "source": [
        "# --------------------------------------\n",
        "# Paso 2: Definir el modelo\n",
        "# --------------------------------------\n",
        "init_fn, apply_fn = model = stax.serial(\n",
        "    stax.Dense(16),\n",
        "    stax.Relu,\n",
        "    stax.Dense(8),\n",
        "    stax.Relu,\n",
        "    stax.Dense(3),\n",
        "    stax.Softmax\n",
        ")"
      ],
      "metadata": {
        "id": "n2GqkAfM7VSx"
      },
      "execution_count": 18,
      "outputs": []
    },
    {
      "cell_type": "markdown",
      "source": [
        "1. **`input_shape = (-1, X_train.shape[1])`**\n",
        "   - Define la forma esperada de los datos de entrada al modelo.\n",
        "   - `-1` indica que el tamaño del batch es dinámico (puede variar).\n",
        "   - `X_train.shape[1]` define el número de características (o columnas) en los datos de entrada.\n",
        "\n",
        "2. **`_, params = init_fn(key, input_shape)`**\n",
        "   - **`init_fn`**: Inicializa los parámetros del modelo usando:\n",
        "     - **`key`**: La clave aleatoria generada previamente (para control reproducible).\n",
        "     - **`input_shape`**: La forma de los datos de entrada.\n",
        "   - Retorna dos valores:\n",
        "     - **`_`**: La salida no utilizada (típicamente la forma de salida del modelo).\n",
        "     - **`params`**: Los parámetros inicializados del modelo (pesos y sesgos de las capas)."
      ],
      "metadata": {
        "id": "B_3rFEmMVR8H"
      }
    },
    {
      "cell_type": "code",
      "source": [
        "# Inicializar parámetros\n",
        "input_shape = (-1, X_train.shape[1])  # Formato (batch_size, n_features)\n",
        "_, params = init_fn(key, input_shape)"
      ],
      "metadata": {
        "id": "saNtjyg479NH"
      },
      "execution_count": 19,
      "outputs": []
    },
    {
      "cell_type": "markdown",
      "source": [
        "1. **jax.nn.one_hot**\n",
        "   - Convierte las etiquetas en formato entero (por ejemplo, `0`, `1`, `2`) a un formato **One-Hot Encoding**, donde cada etiqueta se representa como un vector binario.  "
      ],
      "metadata": {
        "id": "P6ttK1wjVezR"
      }
    },
    {
      "cell_type": "code",
      "source": [
        "# --------------------------------------\n",
        "# Paso 3: One-Hot Encoding de las etiquetas\n",
        "# --------------------------------------\n",
        "y_train_onehot = jax.nn.one_hot(y_train, num_classes=3)\n",
        "y_test_onehot = jax.nn.one_hot(y_test, num_classes=3)"
      ],
      "metadata": {
        "id": "ka_LiaNY7-_k"
      },
      "execution_count": 20,
      "outputs": []
    },
    {
      "cell_type": "markdown",
      "source": [
        "1. **compute_loss(params, x, y)**\n",
        "   - Define la función de pérdida:\n",
        "     - **`apply_fn(params, x)`**: Aplica el modelo a los datos de entrada `x` usando los parámetros actuales (`params`) y calcula las probabilidades (logits).\n",
        "     - **`optax.softmax_cross_entropy(logits, y)`**: Calcula la pérdida por entropía cruzada entre las predicciones (`logits`) y las etiquetas verdaderas (`y`) en formato One-Hot.\n",
        "     - **`jnp.mean(...)`**: Promedia la pérdida para todo el lote.\n",
        "\n",
        "2. **optimizer = optax.adam(learning_rate=0.001)**\n",
        "   - Se crea un optimizador **Adam** con una tasa de aprendizaje de `0.001`. Adam es un algoritmo de optimización avanzado que ajusta dinámicamente la tasa de aprendizaje para cada parámetro.\n",
        "\n",
        "3. **opt_state = optimizer.init(params)**\n",
        "   - Inicializa el estado del optimizador con los parámetros del modelo (`params`).\n",
        "   - Este estado incluye información necesaria para el cálculo de los ajustes durante el entrenamiento, como los gradientes acumulados y las actualizaciones de momento.\n"
      ],
      "metadata": {
        "id": "31TNpQI_V8g8"
      }
    },
    {
      "cell_type": "code",
      "source": [
        "# --------------------------------------\n",
        "# Paso 4: Definir pérdida y optimizador\n",
        "# --------------------------------------\n",
        "def compute_loss(params, x, y):\n",
        "    logits = apply_fn(params, x)  # Salida del modelo (probabilidades)\n",
        "    return jnp.mean(optax.softmax_cross_entropy(logits, y))\n",
        "\n",
        "optimizer = optax.adam(learning_rate=0.001)\n",
        "opt_state = optimizer.init(params)"
      ],
      "metadata": {
        "id": "DRX3rCmz8JRU"
      },
      "execution_count": 21,
      "outputs": []
    },
    {
      "cell_type": "markdown",
      "source": [
        "1. **@jax.jit**\n",
        "   - Compila la función `update` usando JIT (Just-In-Time compilation) para mejorar el rendimiento, aprovechando la aceleración en dispositivos como GPUs o TPUs.\n",
        "\n",
        "2. **def update(params, opt_state, x, y):**\n",
        "   - Define la función que actualiza los parámetros del modelo en un paso de entrenamiento.\n",
        "\n",
        "3. **grads = jax.grad(compute_loss)(params, x, y)**\n",
        "   - Calcula los gradientes de la función de pérdida (`compute_loss`) con respecto a los parámetros (`params`), usando diferenciación automática de JAX.\n",
        "\n",
        "4. **updates, new_opt_state = optimizer.update(grads, opt_state)**\n",
        "   - Usa el optimizador para calcular las actualizaciones (`updates`) basadas en los gradientes (`grads`) y el estado actual del optimizador (`opt_state`).\n",
        "   - Devuelve el nuevo estado del optimizador (`new_opt_state`).\n",
        "\n",
        "5. **new_params = optax.apply_updates(params, updates)**\n",
        "   - Aplica las actualizaciones a los parámetros actuales (`params`) para obtener los nuevos parámetros (`new_params`).\n",
        "\n",
        "6. **return new_params, new_opt_state**\n",
        "   - Devuelve los nuevos parámetros del modelo y el nuevo estado del optimizador, listos para el siguiente paso de entrenamiento.\n"
      ],
      "metadata": {
        "id": "i-7T9s4_WiHp"
      }
    },
    {
      "cell_type": "code",
      "source": [
        "# --------------------------------------\n",
        "# Paso 5: Función de actualización\n",
        "# --------------------------------------\n",
        "@jax.jit\n",
        "def update(params, opt_state, x, y):\n",
        "    grads = jax.grad(compute_loss)(params, x, y)\n",
        "    updates, new_opt_state = optimizer.update(grads, opt_state)\n",
        "    new_params = optax.apply_updates(params, updates)\n",
        "    return new_params, new_opt_state"
      ],
      "metadata": {
        "id": "nWkji_5CDCqq"
      },
      "execution_count": 22,
      "outputs": []
    },
    {
      "cell_type": "markdown",
      "source": [
        "1. **num_epochs = 200**\n",
        "   - Define el número total de épocas para el entrenamiento, donde una época es un pase completo por el conjunto de datos de entrenamiento.\n",
        "\n",
        "2. **for epoch in range(num_epochs):**\n",
        "   - Itera sobre el rango de épocas, actualizando los parámetros del modelo en cada iteración.\n",
        "\n",
        "3. **params, opt_state = update(params, opt_state, X_train, y_train_onehot)**\n",
        "   - Llama a la función `update` para realizar un paso de entrenamiento:\n",
        "     - Calcula los gradientes.\n",
        "     - Actualiza los parámetros del modelo (`params`) y el estado del optimizador (`opt_state`) usando los datos de entrada `X_train` y las etiquetas One-Hot `y_train_onehot`.\n",
        "\n",
        "4. **if epoch % 100 == 0:**\n",
        "   - Cada 100 épocas, evalúa la pérdida actual del modelo.\n",
        "\n",
        "5. **loss = compute_loss(params, X_train, y_train_onehot)**\n",
        "   - Calcula la pérdida en el conjunto de entrenamiento con los parámetros actualizados.\n",
        "\n",
        "6. **print(f\"Epoch {epoch}, Loss: {loss:.4f}\")**\n",
        "   - Imprime el número de época y el valor de la pérdida, facilitando el monitoreo del progreso del entrenamiento.\n"
      ],
      "metadata": {
        "id": "q8DuK_BWW8pz"
      }
    },
    {
      "cell_type": "code",
      "source": [
        "# --------------------------------------\n",
        "# Paso 6: Entrenamiento\n",
        "# --------------------------------------\n",
        "num_epochs = 200\n",
        "\n",
        "for epoch in range(num_epochs):\n",
        "    params, opt_state = update(params, opt_state, X_train, y_train_onehot)\n",
        "    if epoch % 100 == 0:\n",
        "        loss = compute_loss(params, X_train, y_train_onehot)\n",
        "        print(f\"Epoch {epoch}, Loss: {loss:.4f}\")"
      ],
      "metadata": {
        "colab": {
          "base_uri": "https://localhost:8080/"
        },
        "id": "cLN5FuUODDpq",
        "outputId": "381ba451-ea30-43a2-ca15-cf2d2b3e82ae"
      },
      "execution_count": 23,
      "outputs": [
        {
          "output_type": "stream",
          "name": "stdout",
          "text": [
            "Epoch 0, Loss: 1.0624\n",
            "Epoch 100, Loss: 0.6793\n"
          ]
        }
      ]
    },
    {
      "cell_type": "markdown",
      "source": [
        "\n",
        "1. **test_loss = compute_loss(params, X_test, y_test_onehot)**\n",
        "   - Calcula la pérdida en el conjunto de prueba (`X_test`, `y_test_onehot`) utilizando los parámetros entrenados (`params`).\n",
        "   - Esto mide qué tan bien el modelo generaliza en datos que no ha visto antes.\n",
        "\n",
        "2. **test_preds = jnp.argmax(apply_fn(params, X_test), axis=1)**\n",
        "   - Aplica el modelo a los datos de prueba (`X_test`) para generar las predicciones (`logits`).\n",
        "   - Usa `jnp.argmax` para convertir los logits en etiquetas predichas, seleccionando el índice de la clase con mayor probabilidad.\n",
        "\n",
        "3. **test_accuracy = jnp.mean(test_preds == y_test)**\n",
        "   - Calcula la precisión del modelo en el conjunto de prueba.\n",
        "   - Compara las etiquetas predichas (`test_preds`) con las etiquetas reales (`y_test`) y promedia los aciertos.\n",
        "\n",
        "4. **print(f\"Test Loss: {test_loss:.4f}, Test Accuracy: {test_accuracy:.4f}\")**\n",
        "   - Imprime la pérdida y precisión del modelo en el conjunto de prueba."
      ],
      "metadata": {
        "id": "HwrfrfzUXPy4"
      }
    },
    {
      "cell_type": "code",
      "source": [
        "# --------------------------------------\n",
        "# Paso 7: Evaluación\n",
        "# --------------------------------------\n",
        "test_loss = compute_loss(params, X_test, y_test_onehot)\n",
        "test_preds = jnp.argmax(apply_fn(params, X_test), axis=1)\n",
        "test_accuracy = jnp.mean(test_preds == y_test)\n",
        "print(f\"Test Loss: {test_loss:.4f}, Test Accuracy: {test_accuracy:.4f}\")"
      ],
      "metadata": {
        "colab": {
          "base_uri": "https://localhost:8080/"
        },
        "id": "T3BEi-u5DEoq",
        "outputId": "f7adaa69-0caa-42d5-c669-fdfcef4c22a4"
      },
      "execution_count": 24,
      "outputs": [
        {
          "output_type": "stream",
          "name": "stdout",
          "text": [
            "Test Loss: 0.5762, Test Accuracy: 0.9722\n"
          ]
        }
      ]
    },
    {
      "cell_type": "markdown",
      "source": [
        "1. **`confusion_matrix(y_test, test_preds)`**\n",
        "   - Calcula la **matriz de confusión**, que es una tabla que muestra el número de predicciones correctas e incorrectas para cada clase:\n",
        "     - Las filas representan las clases reales.\n",
        "     - Las columnas representan las clases predichas.\n",
        "   - Ayuda a analizar cómo el modelo se comporta para cada clase, identificando posibles desequilibrios o errores comunes.\n",
        "\n",
        "2. **`ConfusionMatrixDisplay(confusion_matrix=..., display_labels=labels)`**\n",
        "   - Crea una visualización gráfica de la matriz de confusión:\n",
        "     - **`confusion_matrix`**: La matriz calculada en el paso anterior.\n",
        "     - **`display_labels`**: Las etiquetas de las clases (por ejemplo, nombres de las clases).\n",
        "\n",
        "3. **`disp.plot(cmap=plt.cm.Blues)`**\n",
        "   - Dibuja la matriz de confusión como un gráfico en tonos azules (definido por el mapa de colores `Blues`).\n",
        "\n",
        "4. **`plt.show()`**\n",
        "   - Muestra la gráfica generada."
      ],
      "metadata": {
        "id": "iWt0JWu-Xhce"
      }
    },
    {
      "cell_type": "code",
      "source": [
        "# Mátriz de confusión\n",
        "confusion_matrix(y_test, test_preds)\n",
        "# Visualización Gráfica\n",
        "disp = ConfusionMatrixDisplay(confusion_matrix=confusion_matrix(y_test, test_preds), display_labels=labels)\n",
        "disp.plot(cmap=plt.cm.Blues)\n",
        "plt.show()"
      ],
      "metadata": {
        "colab": {
          "base_uri": "https://localhost:8080/",
          "height": 455
        },
        "id": "-E6h_UOEDNil",
        "outputId": "3e5f9ef1-76de-41d3-983c-79849b3e6972"
      },
      "execution_count": 25,
      "outputs": [
        {
          "output_type": "display_data",
          "data": {
            "text/plain": [
              "<Figure size 640x480 with 2 Axes>"
            ],
            "image/png": "[encoded data removed]"
          },
          "metadata": {}
        }
      ]
    }
  ],
  "metadata": {
    "colab": {
      "provenance": []
    },
    "kernelspec": {
      "display_name": "Python 3",
      "name": "python3"
    },
    "language_info": {
      "name": "python"
    }
  },
  "nbformat": 4,
  "nbformat_minor": 0
}